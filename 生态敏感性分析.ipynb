{
 "cells": [
  {
   "cell_type": "markdown",
   "metadata": {},
   "source": [
    "# Part1\n",
    "导入必要函数库，初始化GEE"
   ]
  },
  {
   "cell_type": "code",
   "execution_count": null,
   "metadata": {},
   "outputs": [],
   "source": [
    "import ee\n",
    "import geemap\n",
    "import pandas as pd"
   ]
  },
  {
   "cell_type": "code",
   "execution_count": null,
   "metadata": {},
   "outputs": [],
   "source": [
    "# geemap.set_proxy(port=7897)\n",
    "geemap.ee_initialize()"
   ]
  },
  {
   "cell_type": "code",
   "execution_count": null,
   "metadata": {},
   "outputs": [],
   "source": [
    "Map = geemap.Map()\n",
    "Map"
   ]
  },
  {
   "cell_type": "markdown",
   "metadata": {},
   "source": [
    "# Part2\n",
    "定义研究区，筛选Landsat影像并进行预处理"
   ]
  },
  {
   "cell_type": "code",
   "execution_count": null,
   "metadata": {},
   "outputs": [],
   "source": [
    "# 定义研究区（鄂托克旗边界）\n",
    "shapefile = \"./鄂托克旗.json\"\n",
    "featureCol = geemap.geojson_to_ee(shapefile)\n",
    "Map.addLayer(featureCol,{},'边界')\n",
    "\n",
    "# 设置地图中心\n",
    "region = ee.Geometry.Rectangle([106.6833, 38.3, 108.9, 40.1833])\n",
    "Map = geemap.Map(center=[39.25, 107.8], zoom=8)"
   ]
  },
  {
   "cell_type": "code",
   "execution_count": null,
   "metadata": {},
   "outputs": [],
   "source": [
    "# 导入Landsat 8影像，并筛选无云影像\n",
    "def applyScaleFactors(image):\n",
    "    opticalBands = image.select('SR_B.').multiply(0.0000275).add(-0.2)\n",
    "    thermalBands = image.select('ST_B.*').multiply(0.00341802).add(149.0)\n",
    "    return image.addBands(opticalBands, None, True) \\\n",
    "        .addBands(thermalBands, None, True)\n",
    "\n",
    "# QA波段去云\n",
    "def CloudMask(image):\n",
    "    cloudShadowBitMask = (1 << 4)\n",
    "    cloudsBitMask = (1 << 3)\n",
    "    qa = image.select('QA_PIXEL')\n",
    "    mask = qa.bitwiseAnd(cloudShadowBitMask).eq(0) \\\n",
    "        .And(qa.bitwiseAnd(cloudsBitMask).eq(0))\n",
    "    return image.updateMask(mask) \\\n",
    "        .copyProperties(image) \\\n",
    "        .copyProperties(image, [\"system:time_start\"])"
   ]
  },
  {
   "cell_type": "code",
   "execution_count": null,
   "metadata": {},
   "outputs": [],
   "source": [
    "# 导入Landsat数据并裁剪\n",
    "landsatCol = (ee.ImageCollection(\"LANDSAT/LC08/C02/T1_L2\")\n",
    "           .filterDate('2020-07-01', '2020-08-31')\n",
    "           .filterBounds(region)\n",
    "           .filter(ee.Filter.lt('CLOUD_COVER', 30))\n",
    "           .map(CloudMask)\n",
    "           .map(applyScaleFactors))\n",
    "landsat = ee.ImageCollection(landsatCol).median()"
   ]
  },
  {
   "cell_type": "markdown",
   "metadata": {},
   "source": [
    "# Part3\n",
    "导入NDVI、高程、坡度、土地利用、土壤基质数据并重分类"
   ]
  },
  {
   "cell_type": "code",
   "execution_count": null,
   "metadata": {},
   "outputs": [],
   "source": [
    "# 计算NDVI并按区间分级\n",
    "ndvi = landsat.normalizedDifference(['SR_B5', 'SR_B4']).rename('NDVI')\n",
    "ndvi_classified = ndvi.expression(\n",
    "    \"b('NDVI') < 0 ? 9 : \" +       # 第一级 [-1, 0], 赋值为9\n",
    "    \"b('NDVI') < 0.25 ? 7 : \" +    # 第二级 [0, 0.25], 赋值为7\n",
    "    \"b('NDVI') < 0.5 ? 5 : \" +     # 第三级 [0.25, 0.5], 赋值为5\n",
    "    \"b('NDVI') < 0.75 ? 3 : 1\"     # 第四级 [0.5, 0.75], 赋值为3, 第五级 [0.75, 1], 赋值为1\n",
    ")"
   ]
  },
  {
   "cell_type": "code",
   "execution_count": null,
   "metadata": {},
   "outputs": [],
   "source": [
    "# 导入DEM并分级\n",
    "dem = ee.Image(\"USGS/SRTMGL1_003\")\n",
    "elevation_classified = dem.expression(\n",
    "    \"b('elevation') > 2153 ? 9 : \" +\n",
    "    \"b('elevation') > 1950 ? 7 : \" +\n",
    "    \"b('elevation') > 1700 ? 5 : \" +\n",
    "    \"b('elevation') > 1500 ? 3 : 1\"\n",
    ")"
   ]
  },
  {
   "cell_type": "code",
   "execution_count": null,
   "metadata": {},
   "outputs": [],
   "source": [
    "# 计算坡度并分级\n",
    "slope = ee.Terrain.slope(dem)\n",
    "slope_classified = slope.expression(\n",
    "    \"b('slope') > 35 ? 9 : \" +\n",
    "    \"b('slope') > 25 ? 7 : \" +\n",
    "    \"b('slope') > 15 ? 5 : \" +\n",
    "    \"b('slope') > 5 ? 3 : 1\"\n",
    ")"
   ]
  },
  {
   "cell_type": "code",
   "execution_count": null,
   "metadata": {},
   "outputs": [],
   "source": [
    "# 导入CLCD土地利用分类数据\n",
    "imgPathGLB30 = 'users/studyroomGEE/LULC_Dataset/LULC_HuangXin/CLCD_v01_2020'\n",
    "land_cover = ee.Image(imgPathGLB30)\n",
    "\n",
    "# 将土地利用数据进行重分类\n",
    "# 原始类别 [1:耕地, 2:林地, 3:灌丛, 4:草地, 5:水域, 6:冰/雪, 7:荒地，8：不透水面，9：湿地]\n",
    "# 重分类[1：耕地，2：园地，3：林地，4：草地，5：水域，6：建设用地，7：未利用地]\n",
    "land_cover_reclassified = land_cover.remap(\n",
    "    [1, 2, 3, 4, 5, 9, 8, 6, 7],  # 原始类别值\n",
    "    [1, 3, 2, 4, 5, 5, 6, 7, 7]   # 重分类后的值\n",
    ")\n",
    "\n",
    "# 土地利用敏感性分级\n",
    "land_cover_sensitivity = land_cover_reclassified.remap(\n",
    "    [7, 5, 3, 4, 1, 6],   # 重分类的值\n",
    "    [9, 7, 7, 5, 3, 1]     # 敏感性赋值\n",
    ")"
   ]
  },
  {
   "cell_type": "code",
   "execution_count": null,
   "metadata": {},
   "outputs": [],
   "source": [
    "# 导入土壤基质数据\n",
    "soil_texture = ee.Image(\n",
    "    \"OpenLandMap/SOL/SOL_CLAY-WFRACTION_USDA-3A1A1A_M/v02\").select('b0')\n",
    "\n",
    "# 将土壤基质数据重分类为：沙质、砾质、壤质、粘质和基岩\n",
    "# 基于粘土含量分类:\n",
    "# 0-10: 沙质, 10-20: 砾质, 20-40: 壤质, 40-60: 粘质, 60以上: 基岩\n",
    "soil_texture_reclassified = soil_texture.expression(\n",
    "    \"b('b0') < 10 ? 9 : \" +        # 沙质\n",
    "    \"b('b0') < 20 ? 7 : \" +        # 砾质\n",
    "    \"b('b0') < 40 ? 5 : \" +        # 壤质\n",
    "    \"b('b0') < 60 ? 3 : 1\"         # 粘质和基岩\n",
    ")"
   ]
  },
  {
   "cell_type": "markdown",
   "metadata": {},
   "source": [
    "# Option\n",
    "数据可视化"
   ]
  },
  {
   "cell_type": "code",
   "execution_count": null,
   "metadata": {},
   "outputs": [],
   "source": [
    "# Landsat可视化参数\n",
    "landsat_vis_params = {\n",
    "    'bands': ['SR_B4', 'SR_B3', 'SR_B2'],  # 使用Landsat的RGB波段\n",
    "    'min': 0,\n",
    "    'max': 0.3,\n",
    "    'gamma': 1.4\n",
    "}\n",
    "\n",
    "# 重分类可视化参数\n",
    "vis_params = {\n",
    "    'min':1,\n",
    "    'max':9,\n",
    "    'palette': ['brown', 'orange', 'yellow', 'lightgreen', 'green']\n",
    "}"
   ]
  },
  {
   "cell_type": "code",
   "execution_count": null,
   "metadata": {},
   "outputs": [],
   "source": [
    "# 可视化Landsat影像\n",
    "Map.addLayer(landsat, landsat_vis_params, 'Landsat 8 (2020)')\n",
    "\n",
    "# 可视化高程\n",
    "Map.addLayer(dem, {'min': 0, 'max': 3000}, 'DEM')\n",
    "\n",
    "# 可视化坡度\n",
    "Map.addLayer(slope, {'min': 0, 'max': 45}, 'Slope')\n",
    "\n",
    "# 可视化土地利用\n",
    "Map.addLayer(land_cover_sensitivity, vis_params, 'Reclassified Land Cover')\n",
    "\n",
    "# 可视化土壤基质\n",
    "Map.addLayer(soil_texture_reclassified, vis_params, 'Soil Texture')\n",
    "\n",
    "# 可视化重分类NDVI\n",
    "Map.addLayer(ndvi_classified, vis_params, 'NDVI Classification')\n",
    "\n",
    "# 可视化重分类高程\n",
    "Map.addLayer(elevation_classified, vis_params, 'Elevation Classification')\n",
    "\n",
    "# 可视化重分类坡度\n",
    "Map.addLayer(slope_classified, vis_params, 'Slope Classification')\n",
    "\n",
    "Map.addLayer(featureCol, {}, '边界')\n",
    "Map"
   ]
  },
  {
   "cell_type": "markdown",
   "metadata": {},
   "source": [
    "# Part4\n",
    "敏感性计算"
   ]
  },
  {
   "cell_type": "code",
   "execution_count": null,
   "metadata": {},
   "outputs": [],
   "source": [
    "# 将所有因子合成一个多波段影像\n",
    "combined_image = ndvi_classified.rename('NDVI')\\\n",
    "    .addBands(elevation_classified.rename('Elevation'))\\\n",
    "    .addBands(slope_classified.rename('Slope'))\\\n",
    "    .addBands(land_cover_sensitivity.rename('LandCover'))\\\n",
    "    .addBands(soil_texture_reclassified.rename('SoilTexture'))"
   ]
  },
  {
   "cell_type": "code",
   "execution_count": null,
   "metadata": {},
   "outputs": [],
   "source": [
    "# 添加合成图像到地图\n",
    "Map.addLayer(combined_image.clip(featureCol),{},\"combine\")\n",
    "Map"
   ]
  },
  {
   "cell_type": "code",
   "execution_count": null,
   "metadata": {},
   "outputs": [],
   "source": [
    "# 使用指定的权重进行加权计算生态敏感性\n",
    "sensitivity = combined_image.expression(\n",
    "    \"(Elevation * 0.0722) + (Slope * 0.2429) + (NDVI * 0.1256) + (LandCover * 0.4683) + (SoilTexture * 0.0900)\",\n",
    "    {\n",
    "        'Elevation': combined_image.select('Elevation'),\n",
    "        'Slope': combined_image.select('Slope'),\n",
    "        'NDVI': combined_image.select('NDVI'),\n",
    "        'LandCover': combined_image.select('LandCover'),\n",
    "        'SoilTexture': combined_image.select('SoilTexture')\n",
    "    }\n",
    ").rename('sensitivity')"
   ]
  },
  {
   "cell_type": "markdown",
   "metadata": {},
   "source": [
    "# Part 5\n",
    "敏感性分级与制图"
   ]
  },
  {
   "cell_type": "code",
   "execution_count": null,
   "metadata": {},
   "outputs": [],
   "source": [
    "# 计算分位数（五分位数）\n",
    "quantiles = sensitivity.reduceRegion(\n",
    "    reducer=ee.Reducer.percentile([20, 40, 60, 80]),\n",
    "    geometry=region,\n",
    "    scale=30,\n",
    "    maxPixels=1e9\n",
    ").values()\n",
    "\n",
    "# 获取分位数的实际值\n",
    "q20, q40, q60, q80 = quantiles.getInfo()\n",
    "\n",
    "# 使用分位数进行敏感性分级\n",
    "classified_sensitivity = sensitivity.expression(\n",
    "    \"(sensitivity <= q20) ? 1 : \" +   # 非敏感\n",
    "    \"(sensitivity <= q40) ? 2 : \" +   # 轻度敏感\n",
    "    \"(sensitivity <= q60) ? 3 : \" +   # 中度敏感\n",
    "    \"(sensitivity <= q80) ? 4 : 5\",   # 极高度敏感\n",
    "    {\n",
    "        'sensitivity': sensitivity,\n",
    "        'q20': q20,\n",
    "        'q40': q40,\n",
    "        'q60': q60,\n",
    "        'q80': q80\n",
    "    }\n",
    ")"
   ]
  },
  {
   "cell_type": "code",
   "execution_count": null,
   "metadata": {},
   "outputs": [],
   "source": [
    "# 设置分级可视化参数\n",
    "sensitivity_vis = {\n",
    "    'min': 1,\n",
    "    'max': 5,\n",
    "    'palette': ['darkgreen', 'lightgreen', 'yellow', 'orange', 'red'],\n",
    "    'legend': {\n",
    "        'Non-sensitive': 'darkgreen',\n",
    "        'Slightly sensitive': 'lightgreen',\n",
    "        'Moderately sensitive': 'yellow',\n",
    "        'Highly sensitive': 'orange',\n",
    "        'Extremely sensitive': 'red'\n",
    "    }\n",
    "}"
   ]
  },
  {
   "cell_type": "code",
   "execution_count": null,
   "metadata": {},
   "outputs": [],
   "source": [
    "# 添加图层到地图\n",
    "Map.addLayer(featureCol, {}, '边界')\n",
    "Map.addLayer(classified_sensitivity.clip(featureCol), sensitivity_vis,\n",
    "             'Classified Sensitivity Map')\n",
    "# 显示地图\n",
    "Map"
   ]
  },
  {
   "cell_type": "markdown",
   "metadata": {},
   "source": [
    "# Option\n",
    "导出图像到本地"
   ]
  },
  {
   "cell_type": "code",
   "execution_count": null,
   "metadata": {},
   "outputs": [],
   "source": [
    "# 导出生态敏感性图\n",
    "sensitivity_image = sensitivity.clip(featureCol)\n",
    "geemap.download_ee_image(\n",
    "    sensitivity_image,\n",
    "    filename = 'sensitivity.tif',\n",
    "    scale = 30,\n",
    "    crs = \"EPSG:4326\",\n",
    "    region = region\n",
    ")"
   ]
  }
 ],
 "metadata": {
  "kernelspec": {
   "display_name": "gee",
   "language": "python",
   "name": "python3"
  },
  "language_info": {
   "codemirror_mode": {
    "name": "ipython",
    "version": 3
   },
   "file_extension": ".py",
   "mimetype": "text/x-python",
   "name": "python",
   "nbconvert_exporter": "python",
   "pygments_lexer": "ipython3",
   "version": "3.12.4"
  }
 },
 "nbformat": 4,
 "nbformat_minor": 2
}
